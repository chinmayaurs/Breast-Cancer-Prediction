{
 "cells": [
  {
   "cell_type": "code",
   "execution_count": 1,
   "metadata": {},
   "outputs": [],
   "source": [
    "import Philipsamppython\n",
    "import os\n",
    "import pickle"
   ]
  },
  {
   "cell_type": "code",
   "execution_count": 2,
   "metadata": {},
   "outputs": [],
   "source": [
    "import pandas as pd"
   ]
  },
  {
   "cell_type": "code",
   "execution_count": 3,
   "metadata": {},
   "outputs": [
    {
     "name": "stdout",
     "output_type": "stream",
     "text": [
      "filepath(inside _resolve_path):  /var/lib/dsp/dspvolume/bdamlconf.json\n",
      "\n",
      "Initializing Philipsamppython package:\n",
      "IpAddress:  ml-service\n",
      "port:8886\n",
      "filepath(inside _resolve_path):  /data/spark/spark-1.6.1-bin-hadoop2.6\n",
      "spark_home(after resolve path):  /data/spark/spark-1.6.1-bin-hadoop2.6\n",
      "filepath(inside _resolve_path):  /var/lib/dsp/dspvolume/plugins\n",
      "plugins_path(after resolve path):  /var/lib/dsp/dspvolume/plugins\n",
      "filepath(inside _resolve_path):  /var/lib/dsp/dspvolume/models\n",
      "filepath(inside _resolve_path):  /var/lib/dsp/dspvolume/data\n",
      "filepath(inside _resolve_path):  /var/lib/dsp/dspvolume/plugins\n",
      "plugins_path_log(after resolve path):  /var/lib/dsp/dspvolume/plugins\n",
      "Successfully imported all Spark Modules\n"
     ]
    }
   ],
   "source": [
    "# create server object\n",
    "ex = Philipsamppython.AMP()\n",
    "\n",
    "# intialize sparkContext, sqlContext\n",
    "# ex.InitializeAMPConfig(conffile=\"../../../Release/MlServer/bin/bdamlconf.json\")\n",
    "ex.InitializeAMPConfig(conffile=os.path.join(os.environ.get('CONFIG_FILE_PATH'),\"bdamlconf.json\"))"
   ]
  },
  {
   "cell_type": "code",
   "execution_count": 4,
   "metadata": {},
   "outputs": [],
   "source": [
    "data_path_str_validation_scikit = \"/var/lib/dsp/dspvolume/data/BreastCancerTest_scikit.csv\""
   ]
  },
  {
   "cell_type": "code",
   "execution_count": 5,
   "metadata": {},
   "outputs": [],
   "source": [
    "validation_df_scikit = pd.read_csv(data_path_str_validation_scikit)"
   ]
  },
  {
   "cell_type": "code",
   "execution_count": 6,
   "metadata": {},
   "outputs": [],
   "source": [
    "feature_columns = []"
   ]
  },
  {
   "cell_type": "code",
   "execution_count": 7,
   "metadata": {},
   "outputs": [],
   "source": [
    "for col in validation_df_scikit.columns:\n",
    "    if col != 'Class' and col != 'Bare Nuclei':\n",
    "        feature_columns.append(col)"
   ]
  },
  {
   "cell_type": "code",
   "execution_count": 8,
   "metadata": {},
   "outputs": [
    {
     "name": "stdout",
     "output_type": "stream",
     "text": [
      "['Clump Thickness', 'Uniformity of Cell Size', 'Uniformity of Cell Shape', 'Marginal Adhesion', 'Single Epithelial Cell Size', 'Bland Chromatin', 'Normal Nucleoli', 'Mitoses']\n"
     ]
    }
   ],
   "source": [
    "print feature_columns"
   ]
  },
  {
   "cell_type": "code",
   "execution_count": 9,
   "metadata": {},
   "outputs": [],
   "source": [
    "feature_data_validation = validation_df_scikit.as_matrix(columns=feature_columns)"
   ]
  },
  {
   "cell_type": "code",
   "execution_count": 10,
   "metadata": {},
   "outputs": [
    {
     "name": "stdout",
     "output_type": "stream",
     "text": [
      "[[ 5  1  1  1  2  3  1  1]\n",
      " [ 5  4  4  5  7  3  2  1]\n",
      " [ 3  1  1  1  2  3  1  1]\n",
      " [ 6  8  8  1  3  3  7  1]\n",
      " [ 4  1  1  3  2  3  1  1]\n",
      " [ 8 10 10  8  7  9  7  1]\n",
      " [ 1  1  1  1  2  3  1  1]\n",
      " [ 2  1  2  1  2  3  1  1]\n",
      " [ 2  1  1  1  2  1  1  5]\n",
      " [ 4  2  1  1  2  2  1  1]\n",
      " [ 1  1  1  1  1  3  1  1]\n",
      " [ 2  1  1  1  2  2  1  1]\n",
      " [ 5  3  3  3  2  4  4  1]\n",
      " [ 1  1  1  1  2  3  1  1]\n",
      " [ 8  7  5 10  7  5  5  4]\n",
      " [ 7  4  6  4  6  4  3  1]\n",
      " [ 4  1  1  1  2  2  1  1]\n",
      " [ 4  1  1  1  2  3  1  1]\n",
      " [10  7  7  6  4  4  1  2]\n",
      " [ 6  1  1  1  2  3  1  1]\n",
      " [ 7  3  2 10  5  5  4  4]\n",
      " [10  5  5  3  6  7 10  1]\n",
      " [ 3  1  1  1  2  2  1  1]\n",
      " [ 8  4  5  1  2  7  3  1]\n",
      " [ 1  1  1  1  2  3  1  1]\n",
      " [ 5  2  3  4  2  3  6  1]\n",
      " [ 3  2  1  1  1  2  1  1]\n",
      " [ 5  1  1  1  2  2  1  1]\n",
      " [ 2  1  1  1  2  2  1  1]\n",
      " [ 1  1  3  1  2  1  1  1]\n",
      " [ 3  1  1  1  1  2  1  1]]\n"
     ]
    }
   ],
   "source": [
    "print feature_data_validation"
   ]
  },
  {
   "cell_type": "code",
   "execution_count": 11,
   "metadata": {},
   "outputs": [],
   "source": [
    "# load the model from disk\n",
    "loaded_model = pickle.load(open(\"finalized_model.sav\", 'rb'))\n",
    "result = loaded_model.predict(feature_data_validation)"
   ]
  },
  {
   "cell_type": "code",
   "execution_count": 12,
   "metadata": {},
   "outputs": [
    {
     "name": "stdout",
     "output_type": "stream",
     "text": [
      "[ 0.  1.  0.  1.  0.  1.  0.  0.  0.  0.  0.  0.  0.  0.  1.  1.  0.  0.\n",
      "  1.  0.  1.  1.  0.  1.  0.  0.  0.  0.  0.  0.  0.]\n"
     ]
    }
   ],
   "source": [
    "print result"
   ]
  },
  {
   "cell_type": "code",
   "execution_count": 13,
   "metadata": {},
   "outputs": [],
   "source": [
    "df = pd.DataFrame(result)"
   ]
  },
  {
   "cell_type": "code",
   "execution_count": 14,
   "metadata": {},
   "outputs": [
    {
     "name": "stdout",
     "output_type": "stream",
     "text": [
      "      0\n",
      "0   0.0\n",
      "1   1.0\n",
      "2   0.0\n",
      "3   1.0\n",
      "4   0.0\n",
      "5   1.0\n",
      "6   0.0\n",
      "7   0.0\n",
      "8   0.0\n",
      "9   0.0\n",
      "10  0.0\n",
      "11  0.0\n",
      "12  0.0\n",
      "13  0.0\n",
      "14  1.0\n",
      "15  1.0\n",
      "16  0.0\n",
      "17  0.0\n",
      "18  1.0\n",
      "19  0.0\n",
      "20  1.0\n",
      "21  1.0\n",
      "22  0.0\n",
      "23  1.0\n",
      "24  0.0\n",
      "25  0.0\n",
      "26  0.0\n",
      "27  0.0\n",
      "28  0.0\n",
      "29  0.0\n",
      "30  0.0\n"
     ]
    }
   ],
   "source": [
    "print df"
   ]
  },
  {
   "cell_type": "code",
   "execution_count": 15,
   "metadata": {},
   "outputs": [],
   "source": [
    "ex.AMPSetResult(dataframe=df)"
   ]
  },
  {
   "cell_type": "code",
   "execution_count": 16,
   "metadata": {},
   "outputs": [],
   "source": [
    "if ex.sparkContext is not None:\n",
    "    ex.sparkContext.stop()"
   ]
  }
 ],
 "metadata": {
  "kernelspec": {
   "display_name": "Python 2",
   "language": "python",
   "name": "python2"
  },
  "language_info": {
   "codemirror_mode": {
    "name": "ipython",
    "version": 2
   },
   "file_extension": ".py",
   "mimetype": "text/x-python",
   "name": "python",
   "nbconvert_exporter": "python",
   "pygments_lexer": "ipython2",
   "version": "2.7.13"
  }
 },
 "nbformat": 4,
 "nbformat_minor": 2
}
